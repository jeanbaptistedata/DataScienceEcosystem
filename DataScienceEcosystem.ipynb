{
 "cells": [
  {
   "cell_type": "markdown",
   "id": "09c88e2a-6b33-4962-90fd-984a507f1b98",
   "metadata": {},
   "source": [
    "# Data Science Tools and Ecosystem"
   ]
  },
  {
   "cell_type": "markdown",
   "id": "0e521599-bfc1-44ea-9cdd-9561eb2c36ae",
   "metadata": {},
   "source": [
    "In this notebook, Data Science Tools and Ecosystem are summarized."
   ]
  },
  {
   "cell_type": "markdown",
   "id": "08028cd4-83b9-4c88-b17c-81cbfbffe110",
   "metadata": {},
   "source": [
    "**Objectives:**\n",
    "-R\n",
    "-Python\n",
    "-SQL\n"
   ]
  },
  {
   "cell_type": "markdown",
   "id": "f3cd9aab-1b1b-4da5-895a-73d26e5578b0",
   "metadata": {},
   "source": [
    "Some of the popular languages that Data Scientists use are:\n",
    "Python\n",
    "R\n",
    "SQL"
   ]
  },
  {
   "cell_type": "markdown",
   "id": "87b6f43c-03b7-46ee-92a0-61b34b18d514",
   "metadata": {},
   "source": [
    "Some of the commonly used libraries used by Data Scientists include:\n",
    "Pandas\n",
    "NumPY\n",
    "Mathplotlib"
   ]
  },
  {
   "cell_type": "markdown",
   "id": "8432c214-6201-4fcd-b052-b84fbf47724f",
   "metadata": {},
   "source": [
    "Data Science Tools | Jupyter | Anaconda | VS Code"
   ]
  },
  {
   "cell_type": "code",
   "execution_count": null,
   "id": "c62cd93d-dedd-4fe5-b6c4-89fc7b536c20",
   "metadata": {},
   "outputs": [],
   "source": [
    "### Below are a few examples of evaluating arithmetic expressions in Python"
   ]
  },
  {
   "cell_type": "code",
   "execution_count": null,
   "id": "824ddbf3-0487-4859-8913-db2f74ab3181",
   "metadata": {},
   "outputs": [],
   "source": [
    " This a simple arithmetic expression to mutiply then add integers"
   ]
  },
  {
   "cell_type": "code",
   "execution_count": 2,
   "id": "b377b73c-21f4-489d-897c-f6f26c7d1ef2",
   "metadata": {},
   "outputs": [
    {
     "data": {
      "text/plain": [
       "17"
      ]
     },
     "execution_count": 2,
     "metadata": {},
     "output_type": "execute_result"
    }
   ],
   "source": [
    "(3*4)+5"
   ]
  },
  {
   "cell_type": "markdown",
   "id": "58b0b8c0-be96-4159-bec1-49397c975697",
   "metadata": {},
   "source": [
    " This will convert 200 minutes to hours by diving by 60"
   ]
  },
  {
   "cell_type": "code",
   "execution_count": 4,
   "id": "215c1f06-cb08-4f00-9717-e2c3ba0d07ea",
   "metadata": {},
   "outputs": [
    {
     "data": {
      "text/plain": [
       "3.3333333333333335"
      ]
     },
     "execution_count": 4,
     "metadata": {},
     "output_type": "execute_result"
    }
   ],
   "source": [
    "200/60"
   ]
  },
  {
   "cell_type": "markdown",
   "id": "602861fa-70ec-4131-b7f5-6dcce4229599",
   "metadata": {},
   "source": [
    "## Author\n",
    "Brandon Jean-Baptiste"
   ]
  },
  {
   "cell_type": "code",
   "execution_count": 6,
   "id": "98fb2b73-5d4d-425f-8107-32f6d0fe9c80",
   "metadata": {},
   "outputs": [
    {
     "name": "stdout",
     "output_type": "stream",
     "text": [
      "/Users/b\n"
     ]
    }
   ],
   "source": [
    "!pwd\n"
   ]
  },
  {
   "cell_type": "code",
   "execution_count": null,
   "id": "1822d55f-dc03-443c-abf2-d205b89962ed",
   "metadata": {},
   "outputs": [],
   "source": []
  }
 ],
 "metadata": {
  "kernelspec": {
   "display_name": "Python 3 (ipykernel)",
   "language": "python",
   "name": "python3"
  },
  "language_info": {
   "codemirror_mode": {
    "name": "ipython",
    "version": 3
   },
   "file_extension": ".py",
   "mimetype": "text/x-python",
   "name": "python",
   "nbconvert_exporter": "python",
   "pygments_lexer": "ipython3",
   "version": "3.13.3"
  }
 },
 "nbformat": 4,
 "nbformat_minor": 5
}
